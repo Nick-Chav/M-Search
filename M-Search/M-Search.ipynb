{
 "cells": [
  {
   "cell_type": "code",
   "execution_count": 261,
   "metadata": {},
   "outputs": [],
   "source": [
    "#All libraries here please\n",
    "import pandas as pd"
   ]
  },
  {
   "cell_type": "code",
   "execution_count": 262,
   "metadata": {},
   "outputs": [],
   "source": [
    "#USA Filepath Check\n",
    "filePath = 'M-USA-Final.csv'\n",
    "equivelent_only_USA = pd.read_csv(filePath)\n",
    "\n",
    "#Info retrieval Denmark\n",
    "filePath = 'M-Denmark-Final.csv'\n",
    "equivelent_only_Denmark = pd.read_csv(filePath)"
   ]
  },
  {
   "cell_type": "code",
   "execution_count": 263,
   "metadata": {},
   "outputs": [],
   "source": [
    "def get_Product(ndc_id,database):\n",
    "\n",
    "    if database == 'usa':\n",
    "        medicine_info = equivelent_only_USA[equivelent_only_USA['ID'] == ndc_id]\n",
    "    elif database == 'denmark':\n",
    "        medicine_info = equivelent_only_Denmark[equivelent_only_Denmark['ID'] == ndc_id]\n",
    "    else:\n",
    "          return \"Database Not Found\"\n",
    "\n",
    "\n",
    "    if not medicine_info.empty:\n",
    "        return medicine_info\n",
    "    else:\n",
    "        return \"The product was not found.\""
   ]
  },
  {
   "cell_type": "code",
   "execution_count": 264,
   "metadata": {},
   "outputs": [],
   "source": [
    "def ranker(active,form,dosage,data):\n",
    "\n",
    "    for index, row in data.iterrows():\n",
    "        pval = 0\n",
    "\n",
    "        if row['Ingredient'] == active:\n",
    "            pval += 10\n",
    "        if row['Form'] == form:\n",
    "            pval += 5\n",
    "        if row['Dosage'] == dosage:\n",
    "            pval += 1\n",
    "\n",
    "        data.loc[index, 'Rank'] = pval\n",
    "\n",
    "\n",
    "    return data.sort_values(by='Rank', ascending=False)\n"
   ]
  },
  {
   "cell_type": "code",
   "execution_count": 265,
   "metadata": {},
   "outputs": [],
   "source": [
    "\n",
    "def get_match(ds,active,form,dosage):\n",
    "\n",
    "    #Denmark Database\n",
    "    if ds == 'denmark':\n",
    "        match = equivelent_only_Denmark[(equivelent_only_Denmark[\"Ingredient\"] == active)]\n",
    "\n",
    "        if match.empty:\n",
    "            return 'Not Found'\n",
    "        else:\n",
    "            return ranker(active,form,dosage,match)\n",
    "\n",
    "\n",
    "    #mainly debug\n",
    "    elif ds == 'both':\n",
    "        match = equivelent_only_Denmark[(equivelent_only_Denmark[\"Ingredient\"] == active)] \n",
    "        match2 = equivelent_only_USA[(equivelent_only_USA[\"Ingredient\"] == active)]\n",
    "        if match.empty:\n",
    "            return 'Not Found'\n",
    "        else:\n",
    "            return match, match2\n",
    "\n",
    "\n",
    "    #USA Database\n",
    "    elif ds == 'usa':\n",
    "        match = equivelent_only_USA[(equivelent_only_USA[\"Ingredient\"] == active) ]\n",
    "        \n",
    "        if match.empty:\n",
    "            return 'Not Found'\n",
    "        else:\n",
    "            return ranker(active,form,dosage,match)\n",
    "\n",
    "\n",
    "    #USA DATABASE\n",
    "    else: \n",
    "        return 'Database Unrecognized'\n"
   ]
  },
  {
   "cell_type": "code",
   "execution_count": 266,
   "metadata": {},
   "outputs": [],
   "source": [
    "def m_search(ndc,db):\n",
    "    opposite_db = 'denmark'\n",
    "   \n",
    "    #get product then get matches then make kotlin obj then send back here\n",
    "    \n",
    "    product = get_Product(ndc,db)\n",
    "\n",
    "\n",
    "    ingredient = product.iloc[0,2]\n",
    "    form = product.iloc[0,3]\n",
    "    dosage = product.iloc[0,5]\n",
    "\n",
    "\n",
    "    matches = get_match(opposite_db,ingredient,form,dosage)\n",
    "\n",
    "    json = matches.to_json(orient='records')\n",
    "\n",
    "    return(json)\n",
    "    \n",
    "    #return(matches)\n"
   ]
  },
  {
   "cell_type": "code",
   "execution_count": 267,
   "metadata": {},
   "outputs": [
    {
     "name": "stdout",
     "output_type": "stream",
     "text": [
      "[{\"Name\":\"mounjaro\",\"ID\":28107135723,\"Ingredient\":\"tirzepatide\",\"Form\":\"inject\",\"Dosage\":\"10 mg\",\"Rank\":15.0},{\"Name\":\"mounjaro\",\"ID\":28107135823,\"Ingredient\":\"tirzepatide\",\"Form\":\"inject\",\"Dosage\":\"12.5 mg\",\"Rank\":15.0},{\"Name\":\"mounjaro\",\"ID\":28107135923,\"Ingredient\":\"tirzepatide\",\"Form\":\"inject\",\"Dosage\":\"15 mg\",\"Rank\":15.0},{\"Name\":\"mounjaro\",\"ID\":28107135423,\"Ingredient\":\"tirzepatide\",\"Form\":\"inject\",\"Dosage\":\"2.5 mg\",\"Rank\":15.0},{\"Name\":\"mounjaro\",\"ID\":28107135523,\"Ingredient\":\"tirzepatide\",\"Form\":\"inject\",\"Dosage\":\"5 mg\",\"Rank\":15.0},{\"Name\":\"mounjaro\",\"ID\":28107135623,\"Ingredient\":\"tirzepatide\",\"Form\":\"inject\",\"Dosage\":\"7.5 mg\",\"Rank\":15.0},{\"Name\":\"mounjaro\",\"ID\":28106686821,\"Ingredient\":\"tirzepatide\",\"Form\":\"inject\",\"Dosage\":\"10 mg\",\"Rank\":15.0},{\"Name\":\"mounjaro\",\"ID\":28106686921,\"Ingredient\":\"tirzepatide\",\"Form\":\"inject\",\"Dosage\":\"12.5 mg\",\"Rank\":15.0},{\"Name\":\"mounjaro\",\"ID\":28106687021,\"Ingredient\":\"tirzepatide\",\"Form\":\"inject\",\"Dosage\":\"15 mg\",\"Rank\":15.0},{\"Name\":\"mounjaro\",\"ID\":28106686521,\"Ingredient\":\"tirzepatide\",\"Form\":\"inject\",\"Dosage\":\"2.5 mg\",\"Rank\":15.0},{\"Name\":\"mounjaro\",\"ID\":28106686621,\"Ingredient\":\"tirzepatide\",\"Form\":\"inject\",\"Dosage\":\"5 mg\",\"Rank\":15.0},{\"Name\":\"mounjaro\",\"ID\":28106686721,\"Ingredient\":\"tirzepatide\",\"Form\":\"inject\",\"Dosage\":\"7.5 mg\",\"Rank\":15.0}]\n"
     ]
    },
    {
     "name": "stderr",
     "output_type": "stream",
     "text": [
      "C:\\Users\\denis\\AppData\\Local\\Temp\\ipykernel_11624\\705266988.py:13: SettingWithCopyWarning: \n",
      "A value is trying to be set on a copy of a slice from a DataFrame.\n",
      "Try using .loc[row_indexer,col_indexer] = value instead\n",
      "\n",
      "See the caveats in the documentation: https://pandas.pydata.org/pandas-docs/stable/user_guide/indexing.html#returning-a-view-versus-a-copy\n",
      "  data.loc[index, 'Rank'] = pval\n"
     ]
    }
   ],
   "source": [
    "#test run\n",
    "ndc = '0002-0152'\n",
    "db = 'usa'\n",
    "\n",
    "print(m_search(ndc,db))"
   ]
  },
  {
   "cell_type": "code",
   "execution_count": 268,
   "metadata": {},
   "outputs": [],
   "source": [
    "#print(get_match('denmark','tirzepatide','inject','2.5 mg/.5ml'))"
   ]
  },
  {
   "cell_type": "code",
   "execution_count": 269,
   "metadata": {},
   "outputs": [],
   "source": [
    "#print(get_Product('0002-0152','usa'))"
   ]
  },
  {
   "cell_type": "code",
   "execution_count": 270,
   "metadata": {},
   "outputs": [],
   "source": [
    "#print(get_match('denmark','omeprazole','capsule','25 mg'))"
   ]
  },
  {
   "cell_type": "code",
   "execution_count": 271,
   "metadata": {},
   "outputs": [],
   "source": [
    "#print(get_match('usa','omeprazole','capsule','25 mg'))"
   ]
  },
  {
   "cell_type": "code",
   "execution_count": 272,
   "metadata": {},
   "outputs": [],
   "source": [
    "#json_string = df.to_json(orient='records')"
   ]
  }
 ],
 "metadata": {
  "kernelspec": {
   "display_name": "base",
   "language": "python",
   "name": "python3"
  },
  "language_info": {
   "codemirror_mode": {
    "name": "ipython",
    "version": 3
   },
   "file_extension": ".py",
   "mimetype": "text/x-python",
   "name": "python",
   "nbconvert_exporter": "python",
   "pygments_lexer": "ipython3",
   "version": "3.11.4"
  }
 },
 "nbformat": 4,
 "nbformat_minor": 2
}
