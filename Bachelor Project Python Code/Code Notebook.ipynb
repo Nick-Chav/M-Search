{
 "cells": [
  {
   "cell_type": "code",
   "execution_count": 10,
   "metadata": {},
   "outputs": [],
   "source": [
    "#All libraries here please\n",
    "import pandas as pd"
   ]
  },
  {
   "cell_type": "code",
   "execution_count": 11,
   "metadata": {},
   "outputs": [
    {
     "name": "stdout",
     "output_type": "stream",
     "text": [
      "                                        PRODUCTID PRODUCTNDC  \\\n",
      "0  0002-0152_1761b768-7da0-44a9-bded-54c3bc63414a  0002-0152   \n",
      "1  0002-0213_458ef2aa-cd5f-48bc-8829-82420cfed33b  0002-0213   \n",
      "2  0002-0243_1761b768-7da0-44a9-bded-54c3bc63414a  0002-0243   \n",
      "3  0002-0800_dec32ead-837e-4331-ab55-f3bbccea5b38  0002-0800   \n",
      "4  0002-1152_b597917f-9673-4331-809d-79a538bb943c  0002-1152   \n",
      "5  0002-1200_c2f899b5-287a-4002-ae37-f69418174eb4  0002-1200   \n",
      "6  0002-1214_1761b768-7da0-44a9-bded-54c3bc63414a  0002-1214   \n",
      "7  0002-1220_f615e11a-4b7c-4d64-99d2-36bc282fa391  0002-1220   \n",
      "8  0002-1243_b597917f-9673-4331-809d-79a538bb943c  0002-1243   \n",
      "9  0002-1340_1761b768-7da0-44a9-bded-54c3bc63414a  0002-1340   \n",
      "\n",
      "           PRODUCTTYPENAME  PROPRIETARYNAME PROPRIETARYNAMESUFFIX  \\\n",
      "0  HUMAN PRESCRIPTION DRUG         Zepbound                   NaN   \n",
      "1           HUMAN OTC DRUG          Humulin                     R   \n",
      "2  HUMAN PRESCRIPTION DRUG         Zepbound                   NaN   \n",
      "3           HUMAN OTC DRUG  Sterile Diluent                   NaN   \n",
      "4  HUMAN PRESCRIPTION DRUG         MOUNJARO                   NaN   \n",
      "5  HUMAN PRESCRIPTION DRUG           Amyvid                   NaN   \n",
      "6  HUMAN PRESCRIPTION DRUG         Zepbound                   NaN   \n",
      "7  HUMAN PRESCRIPTION DRUG           TAUVID                   NaN   \n",
      "8  HUMAN PRESCRIPTION DRUG         MOUNJARO                   NaN   \n",
      "9  HUMAN PRESCRIPTION DRUG         Zepbound                   NaN   \n",
      "\n",
      "  NONPROPRIETARYNAME       DOSAGEFORMNAME     ROUTENAME  STARTMARKETINGDATE  \\\n",
      "0        tirzepatide  INJECTION, SOLUTION  SUBCUTANEOUS            20231108   \n",
      "1      Insulin human  INJECTION, SOLUTION    PARENTERAL            19830627   \n",
      "2        tirzepatide  INJECTION, SOLUTION  SUBCUTANEOUS            20231108   \n",
      "3            diluent  INJECTION, SOLUTION  SUBCUTANEOUS            19870710   \n",
      "4        tirzepatide  INJECTION, SOLUTION  SUBCUTANEOUS            20230728   \n",
      "5   Florbetapir F 18  INJECTION, SOLUTION   INTRAVENOUS            20120601   \n",
      "6        tirzepatide  INJECTION, SOLUTION  SUBCUTANEOUS            20231108   \n",
      "7  Flortaucipir F-18  INJECTION, SOLUTION   INTRAVENOUS            20220701   \n",
      "8        tirzepatide  INJECTION, SOLUTION  SUBCUTANEOUS            20230728   \n",
      "9        tirzepatide  INJECTION, SOLUTION  SUBCUTANEOUS            20231108   \n",
      "\n",
      "   ENDMARKETINGDATE MARKETINGCATEGORYNAME APPLICATIONNUMBER  \\\n",
      "0               NaN                   NDA         NDA217806   \n",
      "1               NaN                   BLA         BLA018780   \n",
      "2               NaN                   NDA         NDA217806   \n",
      "3               NaN                   BLA         BLA018781   \n",
      "4               NaN                   NDA         NDA215866   \n",
      "5               NaN                   NDA         NDA202008   \n",
      "6               NaN                   NDA         NDA217806   \n",
      "7               NaN                   NDA         NDA212123   \n",
      "8               NaN                   NDA         NDA215866   \n",
      "9               NaN                   NDA         NDA217806   \n",
      "\n",
      "             LABELERNAME      SUBSTANCENAME ACTIVE_NUMERATOR_STRENGTH  \\\n",
      "0  Eli Lilly and Company        TIRZEPATIDE                       2.5   \n",
      "1  Eli Lilly and Company      INSULIN HUMAN                       100   \n",
      "2  Eli Lilly and Company        TIRZEPATIDE                         5   \n",
      "3  Eli Lilly and Company              WATER                         1   \n",
      "4  Eli Lilly and Company        TIRZEPATIDE                       2.5   \n",
      "5  Eli Lilly and Company   FLORBETAPIR F-18                        51   \n",
      "6  Eli Lilly and Company        TIRZEPATIDE                       7.5   \n",
      "7  Eli Lilly and Company  FLORTAUCIPIR F-18                       100   \n",
      "8  Eli Lilly and Company        TIRZEPATIDE                         5   \n",
      "9  Eli Lilly and Company        TIRZEPATIDE                        10   \n",
      "\n",
      "  ACTIVE_INGRED_UNIT                                      PHARM_CLASSES  \\\n",
      "0            mg/.5mL  G-Protein-linked Receptor Interactions [MoA], ...   \n",
      "1            [iU]/mL                        Insulin [CS], Insulin [EPC]   \n",
      "2            mg/.5mL  G-Protein-linked Receptor Interactions [MoA], ...   \n",
      "3              mL/mL                                                NaN   \n",
      "4            mg/.5mL  G-Protein-linked Receptor Interactions [MoA], ...   \n",
      "5             mCi/mL  Positron Emitting Activity [MoA], Radioactive ...   \n",
      "6            mg/.5mL  G-Protein-linked Receptor Interactions [MoA], ...   \n",
      "7             mCi/mL                                                NaN   \n",
      "8            mg/.5mL  G-Protein-linked Receptor Interactions [MoA], ...   \n",
      "9            mg/.5mL  G-Protein-linked Receptor Interactions [MoA], ...   \n",
      "\n",
      "  DEASCHEDULE NDC_EXCLUDE_FLAG  LISTING_RECORD_CERTIFIED_THROUGH  \n",
      "0         NaN                N                        20251231.0  \n",
      "1         NaN                N                        20241231.0  \n",
      "2         NaN                N                        20251231.0  \n",
      "3         NaN                N                        20241231.0  \n",
      "4         NaN                N                        20241231.0  \n",
      "5         NaN                N                        20241231.0  \n",
      "6         NaN                N                        20251231.0  \n",
      "7         NaN                N                        20251231.0  \n",
      "8         NaN                N                        20241231.0  \n",
      "9         NaN                N                        20251231.0  \n"
     ]
    }
   ],
   "source": [
    "#USA Filepath Check\n",
    "filePath = 'US_Mini.xlsx - product.xls.csv'\n",
    "data = pd.read_csv(filePath)\n",
    "print(data.head(10))"
   ]
  },
  {
   "cell_type": "code",
   "execution_count": 12,
   "metadata": {},
   "outputs": [
    {
     "name": "stdout",
     "output_type": "stream",
     "text": [
      "Active ingredient used:  tirzepatide\n"
     ]
    }
   ],
   "source": [
    "#Info retrieval USA\n",
    "filePath = 'US_Mini.xlsx - product.xls.csv'\n",
    "data = pd.read_csv(filePath)\n",
    "\n",
    "def get_Active_Ingredient(ndc_id):\n",
    "    medicine_info = data[data['PRODUCTNDC'] == ndc_id]\n",
    "\n",
    "    if not medicine_info.empty:\n",
    "        active_Ingredient_Name = medicine_info['NONPROPRIETARYNAME'].iloc[0]\n",
    "        return active_Ingredient_Name\n",
    "    else:\n",
    "        return \"The product was not found.\"\n",
    "    \n",
    "ncd_id_input = input(\"Please enter the product ID to find active ingredient: \")\n",
    "active_Ingredient = get_Active_Ingredient(ncd_id_input)\n",
    "print(\"Active ingredient used: \", active_Ingredient)"
   ]
  }
 ],
 "metadata": {
  "kernelspec": {
   "display_name": "base",
   "language": "python",
   "name": "python3"
  },
  "language_info": {
   "codemirror_mode": {
    "name": "ipython",
    "version": 3
   },
   "file_extension": ".py",
   "mimetype": "text/x-python",
   "name": "python",
   "nbconvert_exporter": "python",
   "pygments_lexer": "ipython3",
   "version": "3.11.4"
  }
 },
 "nbformat": 4,
 "nbformat_minor": 2
}
